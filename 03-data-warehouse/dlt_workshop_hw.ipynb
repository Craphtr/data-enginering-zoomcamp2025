{
  "cells": [
    {
      "cell_type": "markdown",
      "metadata": {
        "id": "view-in-github",
        "colab_type": "text"
      },
      "source": [
        "<a href=\"https://colab.research.google.com/github/Craphtr/data-enginering-zoomcamp2025/blob/main/03-data-warehouse/dlt_workshop_hw.ipynb\" target=\"_parent\"><img src=\"https://colab.research.google.com/assets/colab-badge.svg\" alt=\"Open In Colab\"/></a>"
      ]
    },
    {
      "cell_type": "markdown",
      "metadata": {
        "id": "smr913fU6uHQ"
      },
      "source": [
        "<div class=\"alert alert-block\" style = \"background-color: black\">,\n",
        "        <p><b><font size=\"+4\" color=\"orange\">Homework Data Ingestion with dlt</font></b></p>\n",
        "    </div>"
      ]
    },
    {
      "cell_type": "code",
      "execution_count": null,
      "metadata": {
        "id": "S5Nl1Hai6uHT"
      },
      "outputs": [],
      "source": [
        "import dlt\n",
        "from dlt.sources.helpers.rest_client import RESTClient\n",
        "from dlt.sources.helpers.rest_client.paginators import PageNumberPaginator\n",
        "import requests"
      ]
    },
    {
      "cell_type": "markdown",
      "metadata": {
        "id": "oK1_88-86uHU"
      },
      "source": [
        "#### __Q1.__"
      ]
    },
    {
      "cell_type": "code",
      "execution_count": null,
      "metadata": {
        "id": "-tvTAKX-6uHV",
        "outputId": "a2a80cdc-eda9-4811-d38f-146168940613"
      },
      "outputs": [
        {
          "name": "stdout",
          "output_type": "stream",
          "text": [
            "dlt 1.5.0\n"
          ]
        }
      ],
      "source": [
        "!dlt --version"
      ]
    },
    {
      "cell_type": "markdown",
      "metadata": {
        "id": "Juk5Pv7T6uHW"
      },
      "source": [
        "#### __Q2. Define and Run Pipeline on NYC Taxi Dataset__"
      ]
    },
    {
      "cell_type": "code",
      "execution_count": null,
      "metadata": {
        "id": "y9Ykbfum6uHW",
        "outputId": "84a72380-c576-47ed-b951-49bb2a951e54"
      },
      "outputs": [
        {
          "ename": "NameError",
          "evalue": "name 'filename' is not defined",
          "output_type": "error",
          "traceback": [
            "\u001b[0;31m---------------------------------------------------------------------------\u001b[0m",
            "\u001b[0;31mNameError\u001b[0m                                 Traceback (most recent call last)",
            "Cell \u001b[0;32mIn[13], line 16\u001b[0m\n\u001b[1;32m     13\u001b[0m file_name \u001b[38;5;241m=\u001b[39m \u001b[38;5;124mf\u001b[39m\u001b[38;5;124m\"\u001b[39m\u001b[38;5;124myellow_tripdata_\u001b[39m\u001b[38;5;132;01m{\u001b[39;00myear\u001b[38;5;132;01m}\u001b[39;00m\u001b[38;5;124m-\u001b[39m\u001b[38;5;132;01m{\u001b[39;00mmonth\u001b[38;5;132;01m}\u001b[39;00m\u001b[38;5;124m.parquet\u001b[39m\u001b[38;5;124m\"\u001b[39m\n\u001b[1;32m     14\u001b[0m url \u001b[38;5;241m=\u001b[39m base_url \u001b[38;5;241m+\u001b[39m file_name\n\u001b[0;32m---> 16\u001b[0m \u001b[38;5;28mprint\u001b[39m(\u001b[38;5;124mf\u001b[39m\u001b[38;5;124m\"\u001b[39m\u001b[38;5;124mDownloading \u001b[39m\u001b[38;5;132;01m{\u001b[39;00m\u001b[43mfilename\u001b[49m\u001b[38;5;132;01m}\u001b[39;00m\u001b[38;5;124m\"\u001b[39m)\n",
            "\u001b[0;31mNameError\u001b[0m: name 'filename' is not defined"
          ]
        }
      ],
      "source": [
        "@dlt.resource(name=\"nyc_taxi_data\")\n",
        "\n",
        "def fetch_tripdata(service_type='yellow'):\n",
        "\n",
        "    \"\"\"Fetches NYC tripdata dynamically.\n",
        "    - sevice_type: \"yellow\" or green\"\n",
        "    - Loops thru all years and months to fetch all available data\n",
        "    \"\"\"\n",
        "    client = RESTClient(\n",
        "        base_url = \"https://us-central1-dlthub-analytics.cloudfunctions.net\"\n",
        "        #define pagination strategy - page-based pagination\n",
        "        paginator = PageNumberPaginator(# pages numbered 1 to n\n",
        "            base_page = 1, #start_page = 1\n",
        "            total_path = None # No total count of pages known forehand, pagination ends when no more pages to process\n",
        "        )\n",
        "    )\n",
        "\n",
        "    for page in client.paginate(\"data_enginnering_zoomcamp_api\"): #API endpoint for retrieving data\n",
        "        yield page #yielding page by page exposes you endpoint data and prevents memory overflow\n",
        "\n",
        "\n",
        "#Define and run the dlt pipeline\n",
        "pipeline = dlt.pipeline(destination=\"duckdb\")\n",
        "load_info = pipeline.run(fetch_nyc_taxi_data, write_disposition=\"replace\")\n",
        "print(load_info)\n",
        "\n"
      ]
    },
    {
      "cell_type": "markdown",
      "source": [
        "#### __Connecting `duckdb` to a database__"
      ],
      "metadata": {
        "id": "u4YUOUA09aDl"
      }
    },
    {
      "cell_type": "code",
      "source": [
        "from google.colab import data_table\n",
        "data_table.enable_dataframe_formatter()\n",
        "\n",
        "#A database '<pipeline-duckdb>' was created in the current working directory to connect to it\n",
        "\n",
        "Connect to the duckdb database\n",
        "conn = duckdb.connect(f\"{pipeline.pipeline_name}.duckdb\")\n",
        "\n",
        "#Set search path to the dataset\n",
        "conn.sql(f\"SET search_path = '{pipeline.dataset_name}'\")\n",
        "\n",
        "#Describe the dataset\n",
        "conn.sql(\"DESCRIBE\").df()"
      ],
      "metadata": {
        "id": "dcLk-G-A7Adq"
      },
      "execution_count": null,
      "outputs": []
    },
    {
      "cell_type": "code",
      "execution_count": null,
      "metadata": {
        "id": "LZszKgfr6uHY",
        "outputId": "9c76422b-5271-41ca-9d2d-5f49dc092ea5"
      },
      "outputs": [
        {
          "data": {
            "text/plain": [
              "array([2009.])"
            ]
          },
          "execution_count": 4,
          "metadata": {},
          "output_type": "execute_result"
        }
      ],
      "source": [
        "#Define the range of years from 2009 to 2024\n",
        "start_year = 2009\n",
        "end_year = 2024\n",
        "\n",
        "#Define the rage of months\n",
        "months = [f\"{m:02d}\" for m in range(1,13)]\n",
        "\n",
        "#Loop through all years and months\n",
        "for year in range(start_year, end_year):\n",
        "    for month in months:\n",
        "        file_name = f\"{service_type}_tripdata_{year}-{month}.parquet\"\n",
        "        url = base_url + file_name\n",
        "\n",
        "        print(f\"Downloading {file_name}\")\n",
        "        response = requests.get(url)\n",
        "\n",
        "        if response.status_code == 200:\n",
        "            print(f\"Successfully downloaded {file_name}\")\n",
        "        else:\n",
        "            print(f\"Failed to download {file_name}.status - {response.status_code}\")\n",
        "            continue\n"
      ]
    },
    {
      "cell_type": "markdown",
      "source": [
        "#### __Q3. Explore the Dataset__"
      ],
      "metadata": {
        "id": "bvclh3zN9MOc"
      }
    },
    {
      "cell_type": "code",
      "source": [
        "df = pipeline.dataset(dataset_type=\"default\").rides.df()"
      ],
      "metadata": {
        "id": "fvrkWiN89U0E"
      },
      "execution_count": null,
      "outputs": []
    },
    {
      "cell_type": "markdown",
      "source": [
        "#### __Q4. Trip Duration Analysis__"
      ],
      "metadata": {
        "id": "amtM6H5_-TVu"
      }
    },
    {
      "cell_type": "code",
      "source": [
        "with pipeline.sql_client() as client():\n",
        "  res = client_execute.sql(\n",
        "      \"\"\"\n",
        "      SELECT\n",
        "      AVG(date_diff('minute', 'trip_pickup_datetime', 'trip_dropoff_datetime'))\n",
        "      FROM rides;\n",
        "      \"\"\"\n",
        "  )\n",
        "  print(res)"
      ],
      "metadata": {
        "id": "vePD4q2562tz"
      },
      "execution_count": null,
      "outputs": []
    },
    {
      "cell_type": "code",
      "execution_count": null,
      "metadata": {
        "id": "-O24PtBz6uHa"
      },
      "outputs": [],
      "source": []
    }
  ],
  "metadata": {
    "kernelspec": {
      "display_name": "Python (jupyterlab-env)",
      "language": "python",
      "name": "jupyterlab-env"
    },
    "language_info": {
      "codemirror_mode": {
        "name": "ipython",
        "version": 3
      },
      "file_extension": ".py",
      "mimetype": "text/x-python",
      "name": "python",
      "nbconvert_exporter": "python",
      "pygments_lexer": "ipython3",
      "version": "3.12.7"
    },
    "colab": {
      "provenance": [],
      "include_colab_link": true
    }
  },
  "nbformat": 4,
  "nbformat_minor": 0
}